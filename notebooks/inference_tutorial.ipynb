{
 "cells": [
  {
   "cell_type": "markdown",
   "id": "3fe524a0-c101-4366-b2bb-d4d6ea22b41c",
   "metadata": {},
   "source": [
    "# Inference Example\n",
    "\n",
    "In this notebook, we take a quick look at how to load real and simulated data, and train a given machine learning model."
   ]
  },
  {
   "cell_type": "code",
   "execution_count": null,
   "id": "d86e00af-b9eb-4450-9def-6415c52f3099",
   "metadata": {},
   "outputs": [],
   "source": [
    "import spt\n",
    "import spt.config as cfg\n",
    "\n",
    "import random\n",
    "import numpy as np"
   ]
  },
  {
   "cell_type": "markdown",
   "id": "5f1e2839-506a-4a45-8458-cd4a93fe764a",
   "metadata": {},
   "source": [
    "Just because we're in a notebook, we'll change directory to the root of the SPItorch project so that our example file paths will work on any machine. We'll also take care of some other setup stuff:"
   ]
  },
  {
   "cell_type": "code",
   "execution_count": null,
   "id": "747f6c2b-895a-4af4-b27c-e067f18cfd6f",
   "metadata": {},
   "outputs": [],
   "source": [
    "try: # One-time setup\n",
    "    assert(_SETUP)\n",
    "except NameError:\n",
    "    import os\n",
    "    import torch as t\n",
    "    os.chdir(os.path.split(spt.__path__[0])[0])\n",
    "    dtype = t.float32\n",
    "    device = t.device(\"cuda\") if t.cuda.is_available() else t.device(\"cpu\")\n",
    "    if device == t.device(\"cuda\"):\n",
    "        print(f'Using GPU for training')\n",
    "        !nvidia-smi -L\n",
    "    else:\n",
    "        print(\"CUDA is unavailable; training on CPU.\")\n",
    "    _SETUP = True"
   ]
  },
  {
   "cell_type": "markdown",
   "id": "892a8d92-3c6c-4fbc-aba0-e0746b890779",
   "metadata": {},
   "source": [
    "## Offline Model Training\n",
    "\n",
    "Let's begin by loading the _inference parameters_ from the configuration file, and inspecting the contents:"
   ]
  },
  {
   "cell_type": "code",
   "execution_count": null,
   "id": "24ca8000-1f08-4ec6-858a-fb8d9674eaad",
   "metadata": {},
   "outputs": [],
   "source": [
    "ip = cfg.InferenceParams()\n",
    "# ip.dataset_loc = './data/dsets/dev'\n",
    "ip.use_existing_checkpoints = False\n",
    "ip.retrain_model = False\n",
    "print(ip)"
   ]
  },
  {
   "cell_type": "markdown",
   "id": "8ef61c2b-1424-463b-8f26-3ece038f2f5c",
   "metadata": {},
   "source": [
    "Lets initialise a model (in this example, a _sequential autoregressive network_):"
   ]
  },
  {
   "cell_type": "code",
   "execution_count": null,
   "id": "acc45e94-94bf-4a5f-82e8-227eb3c34491",
   "metadata": {},
   "outputs": [],
   "source": [
    "mp = cfg.SANParams()\n",
    "model = ip.model(mp)"
   ]
  },
  {
   "cell_type": "markdown",
   "id": "03db5a2b-fca2-46a3-ad81-3610913192e5",
   "metadata": {},
   "source": [
    "We can now create some data loaders (one for training, another with test data)."
   ]
  },
  {
   "cell_type": "code",
   "execution_count": null,
   "id": "3c340f20-7281-4d1f-8dfd-d8a19415944d",
   "metadata": {},
   "outputs": [],
   "source": [
    "from spt.load_photometry import load_simulated_data, get_norm_theta\n",
    "fp = cfg.ForwardModelParams()\n",
    "\n",
    "train_loader, test_loader = load_simulated_data(\n",
    "    path=ip.dataset_loc,\n",
    "    split_ratio=ip.split_ratio,\n",
    "    batch_size=model.params.batch_size,\n",
    "    test_batch_size=1,\n",
    "    phot_transforms=[lambda x: t.from_numpy(np.log(x))],\n",
    "    theta_transforms=[get_norm_theta(fp)],\n",
    ")"
   ]
  },
  {
   "cell_type": "code",
   "execution_count": null,
   "id": "e2b6915e-f9f9-4143-b2a1-5a8347b552b6",
   "metadata": {},
   "outputs": [],
   "source": [
    "model.offline_train(train_loader, ip)"
   ]
  },
  {
   "cell_type": "code",
   "execution_count": null,
   "id": "b414d296-d2f2-410c-9a9c-295e5a3878f1",
   "metadata": {},
   "outputs": [],
   "source": [
    "# test dataset\n",
    "tds = test_loader.dataset\n",
    "def new_sample() -> tuple[int, int, tuple[t.Tensor, t.Tensor]]:\n",
    "    ds_idx = random.randint(0, len(tds)-1) # test loader index\n",
    "    xys = tds[ds_idx]\n",
    "    idx = tds.indices[ds_idx]\n",
    "    return ds_idx, idx, xys\n",
    "def sample_at(ds_idx: int) -> tuple[int, t.Tensor, t.Tensor]:\n",
    "    xys = tds[ds_idx]\n",
    "    idx = tds.indices[ds_idx]\n",
    "    return idx, xys\n",
    "\n",
    "# OLD:\n",
    "# sim_xs, sim_ys = spt.utils.new_sample(test_loader, 1)"
   ]
  },
  {
   "cell_type": "code",
   "execution_count": null,
   "id": "50a5bab3-6fbe-4ac8-ad7e-7c92e1d39a8d",
   "metadata": {},
   "outputs": [],
   "source": [
    "from spt.visualisation import plot_corner"
   ]
  },
  {
   "cell_type": "code",
   "execution_count": null,
   "id": "222f5527-aa01-440e-8a86-61d7a50d1b5f",
   "metadata": {},
   "outputs": [],
   "source": [
    "# NOTE: this should be done automatically at the end of offline_train...\n",
    "model.eval()"
   ]
  },
  {
   "cell_type": "markdown",
   "id": "3e6c5ec6-f094-465d-ab06-6f157f9e6fae",
   "metadata": {},
   "source": [
    "We can now create a corner plot with this data:"
   ]
  },
  {
   "cell_type": "code",
   "execution_count": null,
   "id": "86fc0422-3334-43e2-b861-5663a2555a15",
   "metadata": {},
   "outputs": [],
   "source": [
    "# ds_idx, sim_idx, (sim_xs, sim_ys) = new_sample()\n",
    "\n",
    "# for reproducibility\n",
    "ds_idx = 947898\n",
    "sim_idx, (sim_xs, sim_ys) = sample_at(ds_idx)\n",
    "\n",
    "with t.inference_mode():\n",
    "    samples = model.sample(sim_xs, n_samples=10000).cpu()\n",
    "\n",
    "plot_corner(samples=samples.squeeze().numpy(), true_params=sim_ys,\n",
    "            title=f'Sequential Autoregressive Network',\n",
    "            description=str(model))"
   ]
  },
  {
   "cell_type": "code",
   "execution_count": null,
   "id": "3d194788-c858-43f7-ada4-b01061d570d1",
   "metadata": {},
   "outputs": [],
   "source": [
    "from spt.utils import get_median_mode\n",
    "median, mode = get_median_mode(samples)"
   ]
  },
  {
   "cell_type": "code",
   "execution_count": null,
   "id": "6a30c5c5-0c8b-4550-95f8-f504bbb59c13",
   "metadata": {},
   "outputs": [],
   "source": [
    "fmp = spt.config.ForwardModelParams()\n",
    "dt = spt.load_photometry.get_denorm_theta(fmp)\n",
    "denorm_mode = dt(mode[None,:]).squeeze()\n",
    "denorm_median = dt(median[None,:]).squeeze()"
   ]
  },
  {
   "cell_type": "markdown",
   "id": "161d50dc-2082-4bd7-9fd2-c9c0a280fa9e",
   "metadata": {},
   "source": [
    "# Verify Predictions against MCMC on simulated sample"
   ]
  },
  {
   "cell_type": "code",
   "execution_count": null,
   "id": "4d77f23d-dd71-4e21-bb9c-af0810bf3566",
   "metadata": {},
   "outputs": [],
   "source": [
    "fs = cfg.ForwardModelParams().filters\n",
    "phot_obs = np.exp(sim_xs.numpy())  # de-normalise the (simulated) model input\n",
    "obs = spt.load_photometry.sim_observation(fs, phot_obs, index=sim_idx, dset=ip.dataset_loc)"
   ]
  },
  {
   "cell_type": "code",
   "execution_count": null,
   "id": "7b7d28a1-cbb5-491a-9be2-df24eade8276",
   "metadata": {},
   "outputs": [],
   "source": [
    "p = spt.Prospector(obs)"
   ]
  },
  {
   "cell_type": "code",
   "execution_count": null,
   "id": "55616070-913e-40d2-9656-e13ef3de9319",
   "metadata": {},
   "outputs": [],
   "source": [
    "p.visualise_obs(show=True, save=False, title=\"Simulated Observation\")"
   ]
  },
  {
   "cell_type": "markdown",
   "id": "95671f61-cd7e-4675-9d31-e5150d3da892",
   "metadata": {},
   "source": [
    "## Forward Model using SAN Predictions"
   ]
  },
  {
   "cell_type": "code",
   "execution_count": null,
   "id": "b5ae4c20-f684-40d7-898d-ec0b6f16ccd2",
   "metadata": {},
   "outputs": [],
   "source": [
    "p.visualise_model(denorm_median, show=True, save=False, title=\"Forward Model with Network Predictions\")"
   ]
  },
  {
   "cell_type": "markdown",
   "id": "c299c567-d32b-47f7-8879-aa4cb871b03a",
   "metadata": {},
   "source": [
    "## Forward model with MCMC parameter predictions"
   ]
  },
  {
   "cell_type": "code",
   "execution_count": null,
   "id": "c7d19c79-b5c7-4b72-b769-b93fe7972de6",
   "metadata": {},
   "outputs": [],
   "source": [
    "p.emcee_fit(always_fit=False)"
   ]
  },
  {
   "cell_type": "code",
   "execution_count": null,
   "id": "1d43d7bd-8b6c-412c-85bd-6bea9c58bf6c",
   "metadata": {},
   "outputs": [],
   "source": [
    "p.visualise_model(show=True, save=False, title=\"Forward Model with EMCEE Results\")"
   ]
  },
  {
   "cell_type": "markdown",
   "id": "eddae859-96a3-49f8-b3c1-1694dd700a5e",
   "metadata": {
    "tags": []
   },
   "source": [
    "## Initialising MCMC at model predictions\n",
    "\n",
    "Can we speed up the MCMC procedure by initialising the parameters at the machine learning model's outputs?"
   ]
  },
  {
   "cell_type": "code",
   "execution_count": null,
   "id": "eb6a85b5-aa20-4dcc-b01e-0fe6f5a77331",
   "metadata": {},
   "outputs": [],
   "source": [
    "p.set_theta(denorm_median)"
   ]
  },
  {
   "cell_type": "code",
   "execution_count": null,
   "id": "f97be68d-b6eb-47ee-a2e9-bf19268ad31b",
   "metadata": {},
   "outputs": [],
   "source": [
    "ep = cfg.EMCEEParams()\n",
    "ep.optimise = False\n",
    "p.emcee_fit(ep, always_fit=True)"
   ]
  },
  {
   "cell_type": "code",
   "execution_count": null,
   "id": "4cbcb600-af05-40d2-861c-f89fdcf84329",
   "metadata": {},
   "outputs": [],
   "source": [
    "p.visualise_model(show=True, save=False, title=\"EMCEE Params with SAN Initialisation\")"
   ]
  },
  {
   "cell_type": "markdown",
   "id": "045feb07-9835-46ea-8a23-13c9682751fc",
   "metadata": {
    "jp-MarkdownHeadingCollapsed": true,
    "tags": []
   },
   "source": [
    "## Other MCMC plots"
   ]
  },
  {
   "cell_type": "code",
   "execution_count": null,
   "id": "b30a2860-2bb8-400e-8a5d-1ef86590219b",
   "metadata": {},
   "outputs": [],
   "source": [
    "import prospect.io.read_results as reader\n",
    "# from spt.types import MCMCMethod\n",
    "# p.load_fit_results(index=obs['idx'], method=MCMCMethod.EMCEE, survey=obs['survey'])\n",
    "p.load_fit_results(file='./results/mcmc/emcee_samples/photometry_sim_10000000_5942041.h5')"
   ]
  },
  {
   "cell_type": "code",
   "execution_count": null,
   "id": "41546877-0fce-4ca8-8268-19afd80eb962",
   "metadata": {},
   "outputs": [],
   "source": [
    "chosen = np.random.choice(p.fit_results[\"run_params\"][\"nwalkers\"], size=10, replace=False)\n",
    "tracefig = reader.traceplot(p.fit_results, figsize=(20, 10), chains=chosen)"
   ]
  },
  {
   "cell_type": "code",
   "execution_count": null,
   "id": "500d75d1-35ad-4d39-837b-2eb274081680",
   "metadata": {},
   "outputs": [],
   "source": [
    "imax = np.argmax(p.fit_results['lnprobability'])\n",
    "i, j = np.unravel_index(imax, p.fit_results['lnprobability'].shape)\n",
    "theta_max = p.fit_results['chain'][i, j, :].copy()\n",
    "thin = 5\n",
    "\n",
    "import matplotlib.pyplot as plt\n",
    "    \n",
    "print(f'Optimization value: {theta_max}')\n",
    "print(f'MAP value: {theta_max}')\n",
    "cornerfig = reader.subcorner(p.fit_results, start=0, thin=thin, truths=theta_max,\n",
    "                             fig=plt.subplots(6, 6, figsize=(27, 27), dpi=100)[0])"
   ]
  },
  {
   "cell_type": "markdown",
   "id": "a06f5fb7-545a-406c-a666-e9e053114616",
   "metadata": {},
   "source": [
    "# Real Observations\n",
    "\n",
    "Now we attempt to run the trained model on a real observation from a catalogue."
   ]
  },
  {
   "cell_type": "code",
   "execution_count": null,
   "id": "05b3bb24-eb01-4ea2-bbe1-28e589ca6722",
   "metadata": {},
   "outputs": [],
   "source": [
    "real_obs = spt.load_observation()\n",
    "obs_idx = real_obs['idx']\n",
    "required_cols = [f.maggie_col for f in fp.filters]\n",
    "real_xs = t.tensor(real_obs[required_cols].values.astype(np.float64)).log().to(device, dtype)"
   ]
  },
  {
   "cell_type": "code",
   "execution_count": null,
   "id": "164548f7-6542-4b0a-9fe1-a0874635f9df",
   "metadata": {},
   "outputs": [],
   "source": [
    "with t.inference_mode():\n",
    "    real_samples = model.sample(real_xs, n_samples=10000).cpu()\n",
    "\n",
    "plot_corner(samples=real_samples.squeeze().numpy(), true_params=None,\n",
    "            title=f'Sequential Autoregressive Network',\n",
    "            description=str(model))"
   ]
  },
  {
   "cell_type": "code",
   "execution_count": null,
   "id": "5a2ebcf0-6b0d-490b-b97a-f717718b593d",
   "metadata": {},
   "outputs": [],
   "source": [
    "real_median, real_mode = get_median_mode(real_samples)"
   ]
  },
  {
   "cell_type": "code",
   "execution_count": null,
   "id": "d486c0b6-7237-4418-af2e-547075a6adef",
   "metadata": {},
   "outputs": [],
   "source": [
    "fmp = spt.config.ForwardModelParams()\n",
    "dt = spt.load_photometry.get_denorm_theta(fmp)\n",
    "real_denorm_mode = dt(real_mode[None,:]).squeeze()\n",
    "real_denorm_median = dt(real_median[None,:]).squeeze()"
   ]
  },
  {
   "cell_type": "markdown",
   "id": "1fe9c87f-2906-456b-a084-dd209a6c8b83",
   "metadata": {},
   "source": [
    "## Comparison to Prospector Fitting"
   ]
  },
  {
   "cell_type": "code",
   "execution_count": null,
   "id": "35a98e57-fa4b-447e-a364-6120cb934a82",
   "metadata": {},
   "outputs": [],
   "source": [
    "real_p = spt.Prospector(real_obs)"
   ]
  },
  {
   "cell_type": "code",
   "execution_count": null,
   "id": "dcfd6f8a-3adc-41b2-a34f-308250ad27e3",
   "metadata": {},
   "outputs": [],
   "source": [
    "real_p.visualise_obs(show=True, save=False, title=f'Real Observation ({real_obs[\"survey\"]}:{int(real_obs[\"idx\"])})')"
   ]
  },
  {
   "cell_type": "code",
   "execution_count": null,
   "id": "2de398b7-5c5d-42c9-9884-3a875e897aea",
   "metadata": {},
   "outputs": [],
   "source": [
    "real_p.visualise_model(real_denorm_mode, show=True, save=False, title=f'SAN Parameter Predictions ({real_obs[\"survey\"]}:{int(real_obs[\"idx\"])})')"
   ]
  },
  {
   "cell_type": "markdown",
   "id": "cfc9a4da-dca8-4df0-a1cf-5db26f6ef36d",
   "metadata": {},
   "source": [
    "## Perform MCMC sampling"
   ]
  },
  {
   "cell_type": "code",
   "execution_count": null,
   "id": "9b72c201-3efe-4035-9307-be7d68685d4d",
   "metadata": {},
   "outputs": [],
   "source": [
    "real_p.emcee_fit(always_fit=False)"
   ]
  },
  {
   "cell_type": "code",
   "execution_count": null,
   "id": "6f310ffc-f581-43df-98c2-f592504dff7d",
   "metadata": {},
   "outputs": [],
   "source": [
    "real_p.visualise_model(show=True, save=False, title=f'EMCEE Results ({real_obs[\"survey\"]}:{int(real_obs[\"idx\"])})')"
   ]
  },
  {
   "cell_type": "markdown",
   "id": "0c06a8a6-9885-45af-b913-030c26f46fd2",
   "metadata": {},
   "source": [
    "### "
   ]
  }
 ],
 "metadata": {
  "kernelspec": {
   "display_name": "SPItorch (Python 3.9)",
   "language": "python",
   "name": "agnvenv"
  },
  "language_info": {
   "codemirror_mode": {
    "name": "ipython",
    "version": 3
   },
   "file_extension": ".py",
   "mimetype": "text/x-python",
   "name": "python",
   "nbconvert_exporter": "python",
   "pygments_lexer": "ipython3",
   "version": "3.9.7"
  }
 },
 "nbformat": 4,
 "nbformat_minor": 5
}
