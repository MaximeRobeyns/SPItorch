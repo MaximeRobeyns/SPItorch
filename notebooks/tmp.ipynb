{
 "cells": [
  {
   "cell_type": "markdown",
   "id": "3fe524a0-c101-4366-b2bb-d4d6ea22b41c",
   "metadata": {},
   "source": [
    "# Model Visualisations\n",
    "\n",
    "In this notebook, we take a quick look at how to load real and simulated data, and train a given machine learning model."
   ]
  },
  {
   "cell_type": "code",
   "execution_count": null,
   "id": "654ebe08-cedc-4760-920f-afc6838d759a",
   "metadata": {},
   "outputs": [],
   "source": [
    "import spt\n",
    "import spt.config as cfg\n",
    "\n",
    "import random\n",
    "import numpy as np\n",
    "\n",
    "from spt.visualisation import plot_corner\n",
    "from spt.utils import get_median_mode"
   ]
  },
  {
   "cell_type": "code",
   "execution_count": null,
   "id": "787e0494-c5ca-49ba-b154-f1244818dc88",
   "metadata": {},
   "outputs": [],
   "source": [
    "try: # One-time setup\n",
    "    assert(_SETUP)\n",
    "except NameError:\n",
    "    import os\n",
    "    import torch as t\n",
    "    os.chdir(os.path.split(spt.__path__[0])[0])\n",
    "    dtype = t.float32\n",
    "    device = t.device(\"cuda\") if t.cuda.is_available() else t.device(\"cpu\")\n",
    "    if device == t.device(\"cuda\"):\n",
    "        print(f'Using GPU for training')\n",
    "        !nvidia-smi -L\n",
    "    else:\n",
    "        print(\"CUDA is unavailable; training on CPU.\")\n",
    "    _SETUP = True\n",
    "\n",
    "ip = cfg.InferenceParams()\n",
    "# ip.dataset_loc = './data/dsets/dev'\n",
    "ip.use_existing_checkpoints = False\n",
    "ip.retrain_model = False\n",
    "\n",
    "mp = cfg.SANParams()\n",
    "model = ip.model(mp)\n",
    "\n",
    "from spt.load_photometry import load_simulated_data, get_norm_theta\n",
    "fp = cfg.ForwardModelParams()\n",
    "\n",
    "train_loader, test_loader = load_simulated_data(\n",
    "    path=ip.dataset_loc,\n",
    "    split_ratio=ip.split_ratio,\n",
    "    batch_size=model.params.batch_size,\n",
    "    test_batch_size=1,\n",
    "    phot_transforms=[lambda x: t.from_numpy(np.log(x))],\n",
    "    theta_transforms=[get_norm_theta(fp)],\n",
    ")\n",
    "\n",
    "model.offline_train(train_loader, ip)\n",
    "\n",
    "# test dataset\n",
    "tds = test_loader.dataset\n",
    "def new_sample() -> tuple[int, int, tuple[t.Tensor, t.Tensor]]:\n",
    "    ds_idx = random.randint(0, len(tds)-1) # test loader index\n",
    "    xys = tds[ds_idx]\n",
    "    idx = tds.indices[ds_idx]\n",
    "    return ds_idx, idx, xys\n",
    "def sample_at(ds_idx: int) -> tuple[int, t.Tensor, t.Tensor]:\n",
    "    xys = tds[ds_idx]\n",
    "    idx = tds.indices[ds_idx]\n",
    "    return idx, xys\n",
    "\n",
    "# OLD:\n",
    "# sim_xs, sim_ys = spt.utils.new_sample(test_loader, 1)\n",
    "\n",
    "# NOTE: this should be done automatically at the end of offline_train...\n",
    "model.eval()"
   ]
  },
  {
   "cell_type": "code",
   "execution_count": null,
   "id": "86fc0422-3334-43e2-b861-5663a2555a15",
   "metadata": {},
   "outputs": [],
   "source": [
    "ds_idx, sim_idx, (sim_xs, sim_ys) = new_sample()\n",
    "\n",
    "# for reproducibility\n",
    "# ds_idx = 947898\n",
    "# sim_idx, (sim_xs, sim_ys) = sample_at(ds_idx)\n",
    "\n",
    "with t.inference_mode():\n",
    "    samples = model.sample(sim_xs, n_samples=10000).cpu()\n",
    "\n",
    "plot_corner(samples=samples.squeeze().numpy(), true_params=sim_ys,\n",
    "            title=f'Sequential Autoregressive Network',\n",
    "            description=str(model))"
   ]
  },
  {
   "cell_type": "markdown",
   "id": "a06f5fb7-545a-406c-a666-e9e053114616",
   "metadata": {},
   "source": [
    "# Real Observations\n",
    "\n",
    "Now we attempt to run the trained model on a real observation from a catalogue."
   ]
  },
  {
   "cell_type": "code",
   "execution_count": null,
   "id": "d65ada80-bde4-4843-b167-a96ae69c4891",
   "metadata": {},
   "outputs": [],
   "source": [
    "real_obs = spt.load_observation()\n",
    "real_p = spt.Prospector(real_obs)"
   ]
  },
  {
   "cell_type": "code",
   "execution_count": null,
   "id": "293b1af6-d792-451d-aac1-c52099c2063e",
   "metadata": {},
   "outputs": [],
   "source": [
    "pd_obs = spt.load_observation()\n",
    "real_obs = fp.build_obs_fn(fp.filters, pd_obs)\n",
    "obs_idx = real_obs['_index']\n",
    "required_cols = [f.maggie_col for f in fp.filters]\n",
    "real_xs = t.tensor(pd_obs[required_cols].values.astype(np.float64)).log().to(device, dtype)\n",
    "\n",
    "with t.inference_mode():\n",
    "    real_samples = model.sample(real_xs, n_samples=10000).cpu()\n",
    "\n",
    "plot_corner(samples=real_samples.squeeze().numpy(), true_params=None,\n",
    "            title=f'Sequential Autoregressive Network',\n",
    "            description=str(model))\n",
    "\n",
    "real_median, real_mode = get_median_mode(real_samples)\n",
    "\n",
    "fmp = spt.config.ForwardModelParams()\n",
    "dt = spt.load_photometry.get_denorm_theta(fmp)\n",
    "real_denorm_mode = dt(real_mode[None,:]).squeeze()\n",
    "real_denorm_median = dt(real_median[None,:]).squeeze()\n",
    "\n",
    "real_p.obs = real_obs\n",
    "try:\n",
    "    real_p.visualise_model(real_denorm_mode, show=True, save=False, title=f'SAN Parameter Predictions ({pd_obs[\"survey\"]}:{int(pd_obs[\"idx\"])})')\n",
    "except Exception:\n",
    "    print('Could not plot results')"
   ]
  },
  {
   "cell_type": "markdown",
   "id": "0c06a8a6-9885-45af-b913-030c26f46fd2",
   "metadata": {},
   "source": [
    "### "
   ]
  }
 ],
 "metadata": {
  "kernelspec": {
   "display_name": "SPItorch (Python 3.9)",
   "language": "python",
   "name": "agnvenv"
  },
  "language_info": {
   "codemirror_mode": {
    "name": "ipython",
    "version": 3
   },
   "file_extension": ".py",
   "mimetype": "text/x-python",
   "name": "python",
   "nbconvert_exporter": "python",
   "pygments_lexer": "ipython3",
   "version": "3.9.7"
  }
 },
 "nbformat": 4,
 "nbformat_minor": 5
}
