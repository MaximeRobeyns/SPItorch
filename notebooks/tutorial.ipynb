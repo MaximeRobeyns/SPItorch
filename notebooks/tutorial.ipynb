{
 "cells": [
  {
   "cell_type": "markdown",
   "id": "d67e1c1f-d78d-40ab-b07b-f43e55b10381",
   "metadata": {},
   "source": [
    "# SPItorch Tutorial Notebook\n",
    "\n",
    "This notebook tries to give a _guided tour_ of the most the important bits to help folks get up and running quickly.\n",
    "\n",
    "The SPItorch package is abbreviated to `spt` to save your fingers a bit of typing. Let's import it:"
   ]
  },
  {
   "cell_type": "code",
   "execution_count": null,
   "id": "631ef988-0ae3-43f4-ad9c-c705887ed7dc",
   "metadata": {},
   "outputs": [],
   "source": [
    "import spt"
   ]
  },
  {
   "cell_type": "markdown",
   "id": "af4bc873-e6c2-468b-a3fb-477cd887bb63",
   "metadata": {},
   "source": [
    "Just because we're in a notebook, we'll change directory to the root of the SPItorch project so that our example file paths will work on any machine. We'll also take care of some other setup stuff:"
   ]
  },
  {
   "cell_type": "code",
   "execution_count": null,
   "id": "3106c376-59a6-48e1-a240-1f9398743afa",
   "metadata": {},
   "outputs": [],
   "source": [
    "try: # One-time setup\n",
    "    assert(_SETUP)\n",
    "except NameError:\n",
    "    import os\n",
    "    import torch as t\n",
    "    os.chdir(os.path.split(spt.__path__[0])[0])\n",
    "    dtype = t.float32\n",
    "    device = t.device(\"cuda\") if t.cuda.is_available() else t.device(\"cpu\")\n",
    "    if device == t.device(\"cuda\"):\n",
    "        print(f'Using GPU for training')\n",
    "        !nvidia-smi -L\n",
    "    else:\n",
    "        print(\"CUDA is unavailable; training on CPU.\")\n",
    "    _SETUP = True"
   ]
  },
  {
   "cell_type": "markdown",
   "id": "48eac328-8d9a-4fca-9cd7-4bc3f1471a81",
   "metadata": {},
   "source": [
    "# Forward Modelling\n",
    "\n",
    "Here we show some examples of how Prospector / py-FSPS forward models are wrapped in SPItorch.\n",
    "\n",
    "We can load a specific observation (e.g. galaxy) from our catalogue (if we know the index) as follows:"
   ]
  },
  {
   "cell_type": "code",
   "execution_count": null,
   "id": "bc8ebb47-5da7-485f-b54b-12b85b6bc3f0",
   "metadata": {},
   "outputs": [],
   "source": [
    "index = 42\n",
    "o = spt.load_observation(index)"
   ]
  },
  {
   "cell_type": "markdown",
   "id": "0bed67c8-1133-4a57-a186-9beab8c59151",
   "metadata": {},
   "source": [
    "Or if we'd like to pick out a random observation, we can just leave out the index:"
   ]
  },
  {
   "cell_type": "code",
   "execution_count": null,
   "id": "d0e89668-027c-4035-ab7e-31445afc95b6",
   "metadata": {},
   "outputs": [],
   "source": [
    "o = spt.load_observation()\n",
    "print(o)"
   ]
  },
  {
   "cell_type": "markdown",
   "id": "038a05a2-c4cb-4012-bb43-3d3fd3c86e0b",
   "metadata": {},
   "source": [
    "As you can see, this is just a pandas `Series`, and the index has also been added into the series under the `idx` key (albeit as a float)."
   ]
  },
  {
   "cell_type": "markdown",
   "id": "2fe3005b-895c-4418-b4a8-c979811a3c85",
   "metadata": {},
   "source": [
    "We can initialise a 'prospector object' (i.e. a thin convenience wrapper around Prospector methods) with this observation as follows:"
   ]
  },
  {
   "cell_type": "code",
   "execution_count": null,
   "id": "f1700a42-5529-4aac-a7fe-20412d698c37",
   "metadata": {},
   "outputs": [],
   "source": [
    "p = spt.Prospector(o)"
   ]
  },
  {
   "cell_type": "markdown",
   "id": "8f97285d-0a94-48d3-a46f-ca78e2caa893",
   "metadata": {},
   "source": [
    "This might have taken a few seconds because the SPS libraries had to be loaded - these are a pretty slow component of the project.\n",
    "\n",
    "We can visualise our observation as follows:"
   ]
  },
  {
   "cell_type": "code",
   "execution_count": null,
   "id": "3cb20b83-8e94-4eef-9e63-fb66a7322e24",
   "metadata": {},
   "outputs": [],
   "source": [
    "p.visualise_obs(show=True, save=False)"
   ]
  },
  {
   "cell_type": "markdown",
   "id": "9dad3e55-cd63-4d11-9d53-19840f1bd0b9",
   "metadata": {},
   "source": [
    "You can represent information about the model, it's parameters and filters by printing out the prospector wrapper:"
   ]
  },
  {
   "cell_type": "code",
   "execution_count": null,
   "id": "b7b917a7-7a00-4b02-8b7c-7bd949e6b845",
   "metadata": {},
   "outputs": [],
   "source": [
    "print(p)"
   ]
  },
  {
   "cell_type": "markdown",
   "id": "088180bb-d1b1-4dfd-85bc-bee956c8dcbb",
   "metadata": {},
   "source": [
    "The prospector model has a number of internal (`theta`) parameters, which are initialised by the `init` values of the parameter description (or drawn from the prior if this is missing). We can inspect them as follows:"
   ]
  },
  {
   "cell_type": "code",
   "execution_count": null,
   "id": "2e74f699-ca9d-45b0-a706-6e8a0f49725e",
   "metadata": {},
   "outputs": [],
   "source": [
    "# Theta are the 'free parameters' which we optimise / fit\n",
    "print(p.model.theta)\n",
    "print(p.model.theta_labels())  # same as above\n",
    "print(p.model.free_params)\n",
    "\n",
    "# We do not attempt to optimise / fit the fixed parameters:\n",
    "print(p.model.fixed_params)"
   ]
  },
  {
   "cell_type": "markdown",
   "id": "8cffbdd0-8aa3-4f31-a670-3750ed3c38cc",
   "metadata": {},
   "source": [
    "We can also visualise the photometry and spectroscopy with these initial parameters, and compare these to the observations (note, they'll probably be quite different at this stage!)"
   ]
  },
  {
   "cell_type": "code",
   "execution_count": null,
   "id": "0604305c-cc7e-4fdf-b9e7-f3bc6297d2b5",
   "metadata": {},
   "outputs": [],
   "source": [
    "p.visualise_model(show=True, save=False)"
   ]
  },
  {
   "cell_type": "markdown",
   "id": "1c932a18-f23c-46ef-99de-b336263ebc67",
   "metadata": {},
   "source": [
    "Prospector comes with a number of optimisation methods. These are a little slow (particularly if you have a lot of observations that you need to get through), and the point of the machine learning inference section is to try to speed these up."
   ]
  },
  {
   "cell_type": "markdown",
   "id": "a714a41e-2835-4c8f-aedb-2e3625c243d6",
   "metadata": {},
   "source": [
    "### Numerical Optimisation\n",
    "\n",
    "to try to get our predicted photometry a little closer to the observations, we can get the model's `theta` values in the right ballpark with some numerical optimisers:"
   ]
  },
  {
   "cell_type": "code",
   "execution_count": null,
   "id": "318ed870-8641-4977-a062-75be3905a8e0",
   "metadata": {},
   "outputs": [],
   "source": [
    "results = p.numerical_fit()"
   ]
  },
  {
   "cell_type": "markdown",
   "id": "c54a5e7e-3c2f-429a-8e3b-1dccbaa0cd55",
   "metadata": {},
   "source": [
    "We can see that the model's current `theta` value is automatically updated to the best theta from the optimisation (we run multiple starts to avoid local minima; this is configured in the settings.)"
   ]
  },
  {
   "cell_type": "code",
   "execution_count": null,
   "id": "7d5c2eff-7e6b-4693-8315-1018f567f721",
   "metadata": {},
   "outputs": [],
   "source": [
    "import numpy as np\n",
    "ind_best = np.argmin([r.cost for r in results])\n",
    "print(f'Best index: {ind_best}')\n",
    "theta_best = results[ind_best].x.copy()\n",
    "print(f'Best theta:\\n{theta_best}')\n",
    "print(f'Current model theta:\\n{p.model.theta}')"
   ]
  },
  {
   "cell_type": "markdown",
   "id": "f15b62e5-e033-4e93-b783-332342a5cb7e",
   "metadata": {},
   "source": [
    "Having done that, we can visualise the model's photometric perdicitons again, and see how well they line up with the observations:"
   ]
  },
  {
   "cell_type": "code",
   "execution_count": null,
   "id": "3375da66-7d1d-427b-b932-fd5df2871892",
   "metadata": {},
   "outputs": [],
   "source": [
    "p.visualise_model(theta=theta_best, show=True, save=False)"
   ]
  },
  {
   "cell_type": "markdown",
   "id": "35f86216-b103-46d8-a348-3cb5d826f503",
   "metadata": {},
   "source": [
    "## EMCEE optimisation"
   ]
  },
  {
   "cell_type": "code",
   "execution_count": null,
   "id": "b81bb83c-c629-40da-b7fd-6d931033674f",
   "metadata": {},
   "outputs": [],
   "source": [
    "p.emcee_fit()"
   ]
  },
  {
   "cell_type": "code",
   "execution_count": null,
   "id": "cf08d17e-bd74-4f26-a67b-e1cdd06f41d1",
   "metadata": {},
   "outputs": [],
   "source": [
    "p.visualise_model(show=True, save=False)"
   ]
  },
  {
   "cell_type": "markdown",
   "id": "5a97f2cb-8c54-4cc9-b6e7-0bce4b22d286",
   "metadata": {},
   "source": [
    "You can load up an arbitrary model; either specified by a known file path, or by an (index, fitting method) pair as follows:"
   ]
  },
  {
   "cell_type": "code",
   "execution_count": null,
   "id": "98f84e7d-f2b8-4626-9716-4a6eb7062fe5",
   "metadata": {},
   "outputs": [],
   "source": [
    "from spt.types import MCMCMethod\n",
    "try:\n",
    "    p.load_fit_results(file='/path/to/my/file')\n",
    "except ValueError:\n",
    "    # of course, the above is going to fail...\n",
    "    pass\n",
    "p.load_fit_results(index=p.index, method=MCMCMethod.EMCEE)"
   ]
  },
  {
   "cell_type": "markdown",
   "id": "a94903f4-1e7b-4566-b3fa-c104cdbf55ad",
   "metadata": {},
   "source": [
    "This populates the `Prospector.fit_results` property. From this, you can plot traceplots and the like."
   ]
  },
  {
   "cell_type": "code",
   "execution_count": null,
   "id": "074a580a-f249-4d94-8ec0-7dd60fb9ed16",
   "metadata": {},
   "outputs": [],
   "source": [
    "p.fit_results.keys()"
   ]
  },
  {
   "cell_type": "code",
   "execution_count": null,
   "id": "ff39923c-e4e4-421b-8a98-a8cb72a917de",
   "metadata": {},
   "outputs": [],
   "source": []
  }
 ],
 "metadata": {
  "kernelspec": {
   "display_name": "SPItorch (Python 3.9)",
   "language": "python",
   "name": "agnvenv"
  },
  "language_info": {
   "codemirror_mode": {
    "name": "ipython",
    "version": 3
   },
   "file_extension": ".py",
   "mimetype": "text/x-python",
   "name": "python",
   "nbconvert_exporter": "python",
   "pygments_lexer": "ipython3",
   "version": "3.9.7"
  }
 },
 "nbformat": 4,
 "nbformat_minor": 5
}
